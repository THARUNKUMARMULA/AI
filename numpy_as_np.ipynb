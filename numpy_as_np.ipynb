{
  "nbformat": 4,
  "nbformat_minor": 0,
  "metadata": {
    "colab": {
      "name": "numpy as np",
      "provenance": [],
      "authorship_tag": "ABX9TyN6bbUDvk1ovxdA3l/AldHL",
      "include_colab_link": true
    },
    "kernelspec": {
      "name": "python3",
      "display_name": "Python 3"
    },
    "language_info": {
      "name": "python"
    }
  },
  "cells": [
    {
      "cell_type": "markdown",
      "metadata": {
        "id": "view-in-github",
        "colab_type": "text"
      },
      "source": [
        "<a href=\"https://colab.research.google.com/github/THARUNKUMARMULA/AI/blob/main/numpy_as_np.ipynb\" target=\"_parent\"><img src=\"https://colab.research.google.com/assets/colab-badge.svg\" alt=\"Open In Colab\"/></a>"
      ]
    },
    {
      "cell_type": "code",
      "metadata": {
        "colab": {
          "base_uri": "https://localhost:8080/"
        },
        "id": "M3iPhy-RLgFn",
        "outputId": "2c15918a-19e0-4069-d1d0-72a38adf36a4"
      },
      "source": [
        "import numpy as np\n",
        "x=np.random.uniform(-1,1)\n",
        "eta=0.1\n",
        "iter=1\n",
        "epochs=100\n",
        "while iter<=epochs:\n",
        "  g_x=4*(x**3)+6*x\n",
        "  del_x=-(eta*g_x)\n",
        "  x=x+del_x\n",
        "  iter=iter+1\n",
        "obj=(x**4)+3*(x**2)+10\n",
        "print(round(x),obj)"
      ],
      "execution_count": 1,
      "outputs": [
        {
          "output_type": "stream",
          "name": "stdout",
          "text": [
            "0 10.0\n"
          ]
        }
      ]
    }
  ]
}