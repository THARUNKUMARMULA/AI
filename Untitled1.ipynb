{
  "nbformat": 4,
  "nbformat_minor": 0,
  "metadata": {
    "colab": {
      "name": "Untitled1.ipynb",
      "provenance": [],
      "authorship_tag": "ABX9TyOIUrC19wop2zV0rk3sL2Aj",
      "include_colab_link": true
    },
    "kernelspec": {
      "name": "python3",
      "display_name": "Python 3"
    },
    "language_info": {
      "name": "python"
    }
  },
  "cells": [
    {
      "cell_type": "markdown",
      "metadata": {
        "id": "view-in-github",
        "colab_type": "text"
      },
      "source": [
        "<a href=\"https://colab.research.google.com/github/THARUNKUMARMULA/AI/blob/main/Untitled1.ipynb\" target=\"_parent\"><img src=\"https://colab.research.google.com/assets/colab-badge.svg\" alt=\"Open In Colab\"/></a>"
      ]
    },
    {
      "cell_type": "code",
      "metadata": {
        "colab": {
          "base_uri": "https://localhost:8080/"
        },
        "id": "VuvW9QULOTJr",
        "outputId": "ca880a0b-cfa3-4409-a343-6df10a96cec2"
      },
      "source": [
        "import numpy as np \n",
        "x=np.random.uniform(-100,100)\n",
        "y=np.random.uniform(-100,100)\n",
        "eta=0.1\n",
        "itermax=200\n",
        "iter=1\n",
        "while iter<=itermax:\n",
        " slopex=6*x \n",
        " slopey=-5*pow(2.71828,-y)\n",
        " step_length_x=-eta*slopex\n",
        " step_length_y=-eta*slopey\n",
        " x=x+step_length_x\n",
        " y=y+step_length_y\n",
        " iter=iter+1\n",
        "print(\"CONTROL VARIABLES:\")\n",
        "print(\"at x=\",round(x),\"at y=\",round(y))\n",
        "obj=3*x*x + 5*pow(2.71828,-y) + 10\n",
        "print(\"OBJECTIVE FUNCTION=\",obj)"
      ],
      "execution_count": 4,
      "outputs": [
        {
          "output_type": "stream",
          "name": "stdout",
          "text": [
            "CONTROL VARIABLES:\n",
            "at x= 0 at y= 63\n",
            "OBJECTIVE FUNCTION= 10.0\n"
          ]
        }
      ]
    },
    {
      "cell_type": "code",
      "metadata": {
        "id": "m2JXuAifPauq"
      },
      "source": [
        ""
      ],
      "execution_count": null,
      "outputs": []
    }
  ]
}